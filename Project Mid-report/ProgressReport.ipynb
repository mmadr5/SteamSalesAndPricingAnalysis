{
 "cells": [
  {
   "cell_type": "markdown",
   "metadata": {},
   "source": [
    "# Project Progress Report\n",
    "**Date:** April 10th, 2025\n",
    "\n",
    "**Team Members:**\n",
    "Angel Ramirez,\n",
    "[Name 2]\n",
    "[Name 3]\n",
    "\n",
    "**Link to GitHub Repository:** https://github.com/mmadr5/SteamSalesAndPricingAnalysis"
   ]
  },
  {
   "cell_type": "markdown",
   "metadata": {},
   "source": [
    "# ===========================================\n",
    "\n",
    "# 1. Project Introduction\n",
    "Briefly introduce your project, the dataset, and the problems you aim to investigate.\n",
    "\n",
    "\"\"\"\n",
    "[Write your introduction here. Discuss the data source, domain, and research questions or problems you are addressing.]\n",
    "\"\"\""
   ]
  },
  {
   "cell_type": "markdown",
   "metadata": {},
   "source": [
    "# ===========================================\n",
    "\n",
    "# 2. Changes since Proposal\n",
    "Discuss any changes in the scope or approach since the initial proposal.\n",
    "\n",
    "\"\"\"\n",
    "Parts removed:\n",
    "- [Removed item 1]\n",
    "- [Removed item 2]\n",
    "\n",
    "Parts added:\n",
    "- [Added item 1]\n",
    "- [Added item 2]\n",
    "\"\"\"\n"
   ]
  },
  {
   "cell_type": "markdown",
   "metadata": {},
   "source": [
    "# ===========================================\n",
    "\n",
    "# 3. Data Preparation\n",
    "Explain the steps taken to prepare your data.\n",
    "\n",
    "\"\"\"\n",
    "[Describe your data preparation process, including data cleaning, transformations, feature extraction, etc.]\n",
    "\"\"\"\n"
   ]
  },
  {
   "cell_type": "markdown",
   "metadata": {},
   "source": [
    "# ===========================================\n",
    "\n",
    "# 4. Exploratory Data Analysis (EDA)\n"
   ]
  },
  {
   "cell_type": "code",
   "execution_count": null,
   "metadata": {
    "vscode": {
     "languageId": "plaintext"
    }
   },
   "outputs": [],
   "source": [
    "# Load libraries\n",
    "import pandas as pd\n",
    "import matplotlib.pyplot as plt\n",
    "import seaborn as sns\n",
    "\n",
    "# Load your dataset\n",
    "# df = pd.read_csv('your-dataset.csv')\n",
    "\n",
    "\"\"\"\n",
    "Brief description of the dataset after initial exploration.\n",
    "\n",
    "- Describe structure, size, missing values, etc.\n",
    "- Include visualizations such as histograms, boxplots, correlation matrices, etc.\n",
    "\"\"\"\n",
    "\n",
    "# Example Visualization\n",
    "# sns.histplot(df['column_name'])\n",
    "# plt.title('Distribution of Column')\n",
    "# plt.show()"
   ]
  },
  {
   "cell_type": "markdown",
   "metadata": {},
   "source": [
    "# ===========================================\n",
    "\n",
    "# 5. Hypotheses Visualizations\n",
    "(At least 5 visualizations with explanations and responsible team members)\n",
    "\n",
    "\n",
    "### Hypothesis 1:\n",
    "- Visualization explanation:\n",
    "- Responsible member(s):\n"
   ]
  },
  {
   "cell_type": "code",
   "execution_count": null,
   "metadata": {
    "vscode": {
     "languageId": "plaintext"
    }
   },
   "outputs": [],
   "source": [
    "# [Visualization Code]"
   ]
  },
  {
   "cell_type": "markdown",
   "metadata": {},
   "source": [
    "### Hypothesis 2:\n",
    "- Visualization explanation:\n",
    "- Responsible member(s):"
   ]
  },
  {
   "cell_type": "code",
   "execution_count": null,
   "metadata": {
    "vscode": {
     "languageId": "plaintext"
    }
   },
   "outputs": [],
   "source": [
    "# [Visualization Code]"
   ]
  },
  {
   "cell_type": "markdown",
   "metadata": {},
   "source": [
    "### Hypothesis 3:\n",
    "- Visualization explanation:\n",
    "- Responsible member(s):"
   ]
  },
  {
   "cell_type": "code",
   "execution_count": null,
   "metadata": {
    "vscode": {
     "languageId": "plaintext"
    }
   },
   "outputs": [],
   "source": [
    "# [Visualization Code]"
   ]
  },
  {
   "cell_type": "markdown",
   "metadata": {},
   "source": [
    "### Hypothesis 4:\n",
    "- Visualization explanation:\n",
    "- Responsible member(s):"
   ]
  },
  {
   "cell_type": "code",
   "execution_count": null,
   "metadata": {
    "vscode": {
     "languageId": "plaintext"
    }
   },
   "outputs": [],
   "source": [
    "# [Visualization Code]"
   ]
  },
  {
   "cell_type": "markdown",
   "metadata": {},
   "source": [
    "### Hypothesis 5:\n",
    "- Visualization explanation:\n",
    "- Responsible member(s):"
   ]
  },
  {
   "cell_type": "code",
   "execution_count": null,
   "metadata": {
    "vscode": {
     "languageId": "plaintext"
    }
   },
   "outputs": [],
   "source": [
    "# [Visualization Code]"
   ]
  },
  {
   "cell_type": "markdown",
   "metadata": {},
   "source": [
    "# 6. Machine Learning Analyses\n",
    "(At least 2 analyses with baselines and explanations)\n",
    "\n",
    "**Analysis 1:**\n",
    "- ML technique explanation:\n",
    "- Baseline used:\n",
    "- Results interpretation:\n",
    "- Responsible member(s):"
   ]
  },
  {
   "cell_type": "code",
   "execution_count": null,
   "metadata": {
    "vscode": {
     "languageId": "plaintext"
    }
   },
   "outputs": [],
   "source": [
    "# [ML Analysis Code]"
   ]
  },
  {
   "cell_type": "markdown",
   "metadata": {},
   "source": [
    "**Analysis 2:**\n",
    "- ML technique explanation:\n",
    "- Baseline used:\n",
    "- Results interpretation:\n",
    "- Responsible member(s):"
   ]
  },
  {
   "cell_type": "code",
   "execution_count": null,
   "metadata": {
    "vscode": {
     "languageId": "plaintext"
    }
   },
   "outputs": [],
   "source": [
    "# [ML Analysis Code]"
   ]
  },
  {
   "cell_type": "markdown",
   "metadata": {},
   "source": [
    "# ===========================================\n",
    "\n",
    "# 7. Reflection\n",
    "Address the reflection points:\n",
    "\n",
    "- Most challenging part so far:\n",
    "\n",
    "- Initial insights:\n",
    "\n",
    "- Concrete results available:\n",
    "\n",
    "- Current biggest problems:\n",
    "\n",
    "- Are you on track?\n",
    "\n",
    "- Worth proceeding with the current approach?"
   ]
  },
  {
   "cell_type": "markdown",
   "metadata": {},
   "source": [
    "# ===========================================\n",
    "\n",
    "# 8. Next Steps\n",
    "# Outline concrete plans and goals for the next month.\n",
    "\n",
    "- [Goal 1]\n",
    "- [Goal 2]\n",
    "- [Goal 3]"
   ]
  }
 ],
 "metadata": {
  "language_info": {
   "name": "python"
  }
 },
 "nbformat": 4,
 "nbformat_minor": 2
}
