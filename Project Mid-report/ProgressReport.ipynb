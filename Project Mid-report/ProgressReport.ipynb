{
 "cells": [
  {
   "cell_type": "markdown",
   "metadata": {},
   "source": [
    "# Project Progress Report\n",
    "**Date:** April 10th, 2025\n",
    "\n",
    "**Team Members:**\n",
    "Angel Ramirez,\n",
    "[Name 2]\n",
    "[Name 3]\n",
    "\n",
    "**Link to GitHub Repository:** https://github.com/mmadr5/SteamSalesAndPricingAnalysis"
   ]
  },
  {
   "cell_type": "markdown",
   "metadata": {
    "vscode": {
     "languageId": "plaintext"
    }
   },
   "source": [
    "# ===========================================\n",
    "\n",
    "# 1. Project Introduction\n",
    "Briefly introduce your project, the dataset, and the problems you aim to investigate:\n",
    "\n",
    "The goal of our project is to analyze the pricing and discount strategies used on the popular PC gaming platform, Steam. \n",
    "As frequent gamers ourselves, we were particularly interested in understanding the patterns behind the widely anticipated Steam sales, \n",
    "and how various game attributes influence both regular prices and discount behavior.\n",
    "\n",
    "To do this, we collected data from several publicly available Steam-related datasets. These datasets include information on game prices, \n",
    "genres, user reviews, tags, release dates, and other game-specific metrics."
   ]
  },
  {
   "cell_type": "markdown",
   "metadata": {
    "vscode": {
     "languageId": "plaintext"
    }
   },
   "source": [
    "# ===========================================\n",
    "\n",
    "# 2. Changes since Proposal\n",
    "Discuss any changes in the scope or approach since the initial proposal:\n",
    "\n",
    "Since our initial proposal, the scope and overall approach of our project have remained consistent. \n",
    "We haven't added or removed any major components. Our focus continues to be on analyzing Steam game pricing and discount patterns.\n"
   ]
  },
  {
   "cell_type": "markdown",
   "metadata": {
    "vscode": {
     "languageId": "plaintext"
    }
   },
   "source": [
    "# ===========================================\n",
    "\n",
    "# 3. Data Preparation\n",
    "Explain the steps taken to prepare your data.\n",
    "\n",
    "\n",
    "[Describe your data preparation process, including data cleaning, transformations, feature extraction, etc.]\n",
    "\n",
    "Our dataset was collected from SteamDB where we first started with the top 100 games in each genre, just because collecting\n",
    "data for the entire game catalog on Steam has been time consuming. To clean the data we looked at the price column and removed \n",
    "any entry that did not have a price or had a price of 0 which meant it was free, which is not needed for our project. After that we removed \n",
    "any duplicates or any rows with missing info like name or genre. \n",
    "These steps ensured our dataset was clean, consistent, and ready for analysis related to Steam's pricing patterns and sales strategy.\n"
   ]
  },
  {
   "cell_type": "code",
   "execution_count": 1,
   "metadata": {},
   "outputs": [
    {
     "name": "stdout",
     "output_type": "stream",
     "text": [
      "First 5 rows of the dataset:\n"
     ]
    },
    {
     "data": {
      "text/html": [
       "<div>\n",
       "<style scoped>\n",
       "    .dataframe tbody tr th:only-of-type {\n",
       "        vertical-align: middle;\n",
       "    }\n",
       "\n",
       "    .dataframe tbody tr th {\n",
       "        vertical-align: top;\n",
       "    }\n",
       "\n",
       "    .dataframe thead th {\n",
       "        text-align: right;\n",
       "    }\n",
       "</style>\n",
       "<table border=\"1\" class=\"dataframe\">\n",
       "  <thead>\n",
       "    <tr style=\"text-align: right;\">\n",
       "      <th></th>\n",
       "      <th>appid</th>\n",
       "      <th>name</th>\n",
       "      <th>developer</th>\n",
       "      <th>publisher</th>\n",
       "      <th>price</th>\n",
       "      <th>positive</th>\n",
       "      <th>negative</th>\n",
       "      <th>genre</th>\n",
       "    </tr>\n",
       "  </thead>\n",
       "  <tbody>\n",
       "    <tr>\n",
       "      <th>0</th>\n",
       "      <td>1623730</td>\n",
       "      <td>Palworld</td>\n",
       "      <td>Pocketpair</td>\n",
       "      <td>Pocketpair</td>\n",
       "      <td>29.99</td>\n",
       "      <td>353750</td>\n",
       "      <td>22031</td>\n",
       "      <td>Action</td>\n",
       "    </tr>\n",
       "    <tr>\n",
       "      <th>1</th>\n",
       "      <td>1063730</td>\n",
       "      <td>New World: Aeternum</td>\n",
       "      <td>Amazon Games</td>\n",
       "      <td>Amazon Games</td>\n",
       "      <td>79.99</td>\n",
       "      <td>196554</td>\n",
       "      <td>89844</td>\n",
       "      <td>Action</td>\n",
       "    </tr>\n",
       "    <tr>\n",
       "      <th>2</th>\n",
       "      <td>2358720</td>\n",
       "      <td>Black Myth: Wukong</td>\n",
       "      <td>Game Science</td>\n",
       "      <td>Game Science</td>\n",
       "      <td>59.99</td>\n",
       "      <td>1103540</td>\n",
       "      <td>38012</td>\n",
       "      <td>Action</td>\n",
       "    </tr>\n",
       "    <tr>\n",
       "      <th>3</th>\n",
       "      <td>1938090</td>\n",
       "      <td>Call of Duty: Modern Warfare II</td>\n",
       "      <td>Treyarch, Raven Software, Beenox, High Moon St...</td>\n",
       "      <td>Activision</td>\n",
       "      <td>48.99</td>\n",
       "      <td>409407</td>\n",
       "      <td>288694</td>\n",
       "      <td>Action</td>\n",
       "    </tr>\n",
       "    <tr>\n",
       "      <th>4</th>\n",
       "      <td>550</td>\n",
       "      <td>Left 4 Dead 2</td>\n",
       "      <td>Valve</td>\n",
       "      <td>Valve</td>\n",
       "      <td>9.99</td>\n",
       "      <td>928245</td>\n",
       "      <td>23442</td>\n",
       "      <td>Action</td>\n",
       "    </tr>\n",
       "  </tbody>\n",
       "</table>\n",
       "</div>"
      ],
      "text/plain": [
       "     appid                             name  \\\n",
       "0  1623730                         Palworld   \n",
       "1  1063730              New World: Aeternum   \n",
       "2  2358720               Black Myth: Wukong   \n",
       "3  1938090  Call of Duty: Modern Warfare II   \n",
       "4      550                    Left 4 Dead 2   \n",
       "\n",
       "                                           developer     publisher  price  \\\n",
       "0                                         Pocketpair    Pocketpair  29.99   \n",
       "1                                       Amazon Games  Amazon Games  79.99   \n",
       "2                                       Game Science  Game Science  59.99   \n",
       "3  Treyarch, Raven Software, Beenox, High Moon St...    Activision  48.99   \n",
       "4                                              Valve         Valve   9.99   \n",
       "\n",
       "   positive  negative   genre  \n",
       "0    353750     22031  Action  \n",
       "1    196554     89844  Action  \n",
       "2   1103540     38012  Action  \n",
       "3    409407    288694  Action  \n",
       "4    928245     23442  Action  "
      ]
     },
     "metadata": {},
     "output_type": "display_data"
    },
    {
     "name": "stdout",
     "output_type": "stream",
     "text": [
      "\n",
      "Data Info:\n",
      "<class 'pandas.core.frame.DataFrame'>\n",
      "RangeIndex: 151092 entries, 0 to 151091\n",
      "Data columns (total 8 columns):\n",
      " #   Column     Non-Null Count   Dtype  \n",
      "---  ------     --------------   -----  \n",
      " 0   appid      151092 non-null  int64  \n",
      " 1   name       151073 non-null  object \n",
      " 2   developer  150994 non-null  object \n",
      " 3   publisher  150529 non-null  object \n",
      " 4   price      151092 non-null  float64\n",
      " 5   positive   151092 non-null  int64  \n",
      " 6   negative   151092 non-null  int64  \n",
      " 7   genre      151092 non-null  object \n",
      "dtypes: float64(1), int64(3), object(4)\n",
      "memory usage: 9.2+ MB\n",
      "\n",
      "Statistical Summary:\n"
     ]
    },
    {
     "data": {
      "text/html": [
       "<div>\n",
       "<style scoped>\n",
       "    .dataframe tbody tr th:only-of-type {\n",
       "        vertical-align: middle;\n",
       "    }\n",
       "\n",
       "    .dataframe tbody tr th {\n",
       "        vertical-align: top;\n",
       "    }\n",
       "\n",
       "    .dataframe thead th {\n",
       "        text-align: right;\n",
       "    }\n",
       "</style>\n",
       "<table border=\"1\" class=\"dataframe\">\n",
       "  <thead>\n",
       "    <tr style=\"text-align: right;\">\n",
       "      <th></th>\n",
       "      <th>appid</th>\n",
       "      <th>price</th>\n",
       "      <th>positive</th>\n",
       "      <th>negative</th>\n",
       "    </tr>\n",
       "  </thead>\n",
       "  <tbody>\n",
       "    <tr>\n",
       "      <th>count</th>\n",
       "      <td>1.510920e+05</td>\n",
       "      <td>151092.000000</td>\n",
       "      <td>1.510920e+05</td>\n",
       "      <td>151092.000000</td>\n",
       "    </tr>\n",
       "    <tr>\n",
       "      <th>mean</th>\n",
       "      <td>1.464639e+06</td>\n",
       "      <td>9.214309</td>\n",
       "      <td>1.403164e+03</td>\n",
       "      <td>191.953101</td>\n",
       "    </tr>\n",
       "    <tr>\n",
       "      <th>std</th>\n",
       "      <td>8.116983e+05</td>\n",
       "      <td>13.984803</td>\n",
       "      <td>1.890955e+04</td>\n",
       "      <td>2369.983623</td>\n",
       "    </tr>\n",
       "    <tr>\n",
       "      <th>min</th>\n",
       "      <td>1.000000e+01</td>\n",
       "      <td>0.270000</td>\n",
       "      <td>0.000000e+00</td>\n",
       "      <td>0.000000</td>\n",
       "    </tr>\n",
       "    <tr>\n",
       "      <th>25%</th>\n",
       "      <td>7.838600e+05</td>\n",
       "      <td>2.990000</td>\n",
       "      <td>5.000000e+00</td>\n",
       "      <td>1.000000</td>\n",
       "    </tr>\n",
       "    <tr>\n",
       "      <th>50%</th>\n",
       "      <td>1.366260e+06</td>\n",
       "      <td>5.990000</td>\n",
       "      <td>1.800000e+01</td>\n",
       "      <td>6.000000</td>\n",
       "    </tr>\n",
       "    <tr>\n",
       "      <th>75%</th>\n",
       "      <td>2.096840e+06</td>\n",
       "      <td>10.990000</td>\n",
       "      <td>1.020000e+02</td>\n",
       "      <td>29.000000</td>\n",
       "    </tr>\n",
       "    <tr>\n",
       "      <th>max</th>\n",
       "      <td>3.375310e+06</td>\n",
       "      <td>999.000000</td>\n",
       "      <td>1.357715e+06</td>\n",
       "      <td>288694.000000</td>\n",
       "    </tr>\n",
       "  </tbody>\n",
       "</table>\n",
       "</div>"
      ],
      "text/plain": [
       "              appid          price      positive       negative\n",
       "count  1.510920e+05  151092.000000  1.510920e+05  151092.000000\n",
       "mean   1.464639e+06       9.214309  1.403164e+03     191.953101\n",
       "std    8.116983e+05      13.984803  1.890955e+04    2369.983623\n",
       "min    1.000000e+01       0.270000  0.000000e+00       0.000000\n",
       "25%    7.838600e+05       2.990000  5.000000e+00       1.000000\n",
       "50%    1.366260e+06       5.990000  1.800000e+01       6.000000\n",
       "75%    2.096840e+06      10.990000  1.020000e+02      29.000000\n",
       "max    3.375310e+06     999.000000  1.357715e+06  288694.000000"
      ]
     },
     "metadata": {},
     "output_type": "display_data"
    },
    {
     "name": "stdout",
     "output_type": "stream",
     "text": [
      "\n",
      "Missing Values Per Column:\n",
      "appid               0\n",
      "name                5\n",
      "developer          31\n",
      "publisher         244\n",
      "price               0\n",
      "positive            0\n",
      "negative            0\n",
      "genre               0\n",
      "total_reviews       0\n",
      "positive_ratio      0\n",
      "dtype: int64\n",
      "\n",
      "Cleaned Data Sample:\n"
     ]
    },
    {
     "data": {
      "text/html": [
       "<div>\n",
       "<style scoped>\n",
       "    .dataframe tbody tr th:only-of-type {\n",
       "        vertical-align: middle;\n",
       "    }\n",
       "\n",
       "    .dataframe tbody tr th {\n",
       "        vertical-align: top;\n",
       "    }\n",
       "\n",
       "    .dataframe thead th {\n",
       "        text-align: right;\n",
       "    }\n",
       "</style>\n",
       "<table border=\"1\" class=\"dataframe\">\n",
       "  <thead>\n",
       "    <tr style=\"text-align: right;\">\n",
       "      <th></th>\n",
       "      <th>appid</th>\n",
       "      <th>name</th>\n",
       "      <th>developer</th>\n",
       "      <th>publisher</th>\n",
       "      <th>price</th>\n",
       "      <th>positive</th>\n",
       "      <th>negative</th>\n",
       "      <th>genre</th>\n",
       "      <th>total_reviews</th>\n",
       "      <th>positive_ratio</th>\n",
       "    </tr>\n",
       "  </thead>\n",
       "  <tbody>\n",
       "    <tr>\n",
       "      <th>0</th>\n",
       "      <td>1623730</td>\n",
       "      <td>Palworld</td>\n",
       "      <td>Pocketpair</td>\n",
       "      <td>Pocketpair</td>\n",
       "      <td>29.99</td>\n",
       "      <td>353750</td>\n",
       "      <td>22031</td>\n",
       "      <td>Action</td>\n",
       "      <td>375781</td>\n",
       "      <td>0.941373</td>\n",
       "    </tr>\n",
       "    <tr>\n",
       "      <th>1</th>\n",
       "      <td>1063730</td>\n",
       "      <td>New World: Aeternum</td>\n",
       "      <td>Amazon Games</td>\n",
       "      <td>Amazon Games</td>\n",
       "      <td>79.99</td>\n",
       "      <td>196554</td>\n",
       "      <td>89844</td>\n",
       "      <td>Action</td>\n",
       "      <td>286398</td>\n",
       "      <td>0.686297</td>\n",
       "    </tr>\n",
       "    <tr>\n",
       "      <th>2</th>\n",
       "      <td>2358720</td>\n",
       "      <td>Black Myth: Wukong</td>\n",
       "      <td>Game Science</td>\n",
       "      <td>Game Science</td>\n",
       "      <td>59.99</td>\n",
       "      <td>1103540</td>\n",
       "      <td>38012</td>\n",
       "      <td>Action</td>\n",
       "      <td>1141552</td>\n",
       "      <td>0.966701</td>\n",
       "    </tr>\n",
       "    <tr>\n",
       "      <th>3</th>\n",
       "      <td>1938090</td>\n",
       "      <td>Call of Duty: Modern Warfare II</td>\n",
       "      <td>Treyarch, Raven Software, Beenox, High Moon St...</td>\n",
       "      <td>Activision</td>\n",
       "      <td>48.99</td>\n",
       "      <td>409407</td>\n",
       "      <td>288694</td>\n",
       "      <td>Action</td>\n",
       "      <td>698101</td>\n",
       "      <td>0.586458</td>\n",
       "    </tr>\n",
       "    <tr>\n",
       "      <th>4</th>\n",
       "      <td>550</td>\n",
       "      <td>Left 4 Dead 2</td>\n",
       "      <td>Valve</td>\n",
       "      <td>Valve</td>\n",
       "      <td>9.99</td>\n",
       "      <td>928245</td>\n",
       "      <td>23442</td>\n",
       "      <td>Action</td>\n",
       "      <td>951687</td>\n",
       "      <td>0.975368</td>\n",
       "    </tr>\n",
       "  </tbody>\n",
       "</table>\n",
       "</div>"
      ],
      "text/plain": [
       "     appid                             name  \\\n",
       "0  1623730                         Palworld   \n",
       "1  1063730              New World: Aeternum   \n",
       "2  2358720               Black Myth: Wukong   \n",
       "3  1938090  Call of Duty: Modern Warfare II   \n",
       "4      550                    Left 4 Dead 2   \n",
       "\n",
       "                                           developer     publisher  price  \\\n",
       "0                                         Pocketpair    Pocketpair  29.99   \n",
       "1                                       Amazon Games  Amazon Games  79.99   \n",
       "2                                       Game Science  Game Science  59.99   \n",
       "3  Treyarch, Raven Software, Beenox, High Moon St...    Activision  48.99   \n",
       "4                                              Valve         Valve   9.99   \n",
       "\n",
       "   positive  negative   genre  total_reviews  positive_ratio  \n",
       "0    353750     22031  Action         375781        0.941373  \n",
       "1    196554     89844  Action         286398        0.686297  \n",
       "2   1103540     38012  Action        1141552        0.966701  \n",
       "3    409407    288694  Action         698101        0.586458  \n",
       "4    928245     23442  Action         951687        0.975368  "
      ]
     },
     "metadata": {},
     "output_type": "display_data"
    }
   ],
   "source": [
    "# Import necessary libraries\n",
    "import pandas as pd\n",
    "import matplotlib.pyplot as plt\n",
    "import seaborn as sns\n",
    "\n",
    "# Load dataset\n",
    "df = pd.read_csv('../Steam_Project/steam_top100_cleaned_data_corrected.csv')\n",
    "\n",
    "print(\"First 5 rows of the dataset:\")\n",
    "display(df.head())\n",
    "\n",
    "# Dataset overview\n",
    "print(\"\\nData Info:\")\n",
    "df.info()\n",
    "\n",
    "print(\"\\nStatistical Summary:\")\n",
    "display(df.describe())\n",
    "\n",
    "# Convert price to numeric and fix decimal\n",
    "# Some prices are stored as integers like 9999 instead of 99.99\n",
    "df['price'] = pd.to_numeric(df['price'], errors='coerce')\n",
    "\n",
    "# Filter price between 0 and 210 (exclusive of 0)\n",
    "df = df[(df['price'] > 0) & (df['price'] <= 210)]\n",
    "\n",
    "# Drop duplicate app entries (keep first occurrence)\n",
    "df.drop_duplicates(subset='appid', keep='first', inplace=True)\n",
    "\n",
    "# Add total_reviews and positive_ratio columns\n",
    "df['total_reviews'] = df['positive'] + df['negative']\n",
    "df['positive_ratio'] = df['positive'] / (df['total_reviews'].replace(0, 1))  # Avoid divide by zero\n",
    "\n",
    "# Check for missing values\n",
    "print(\"\\nMissing Values Per Column:\")\n",
    "print(df.isnull().sum())\n",
    "\n",
    "# Optional: drop rows with critical missing values (e.g., no name or no genre)\n",
    "df.dropna(subset=['name', 'genre'], inplace=True)\n",
    "\n",
    "# Reset index after dropping rows\n",
    "df.reset_index(drop=True, inplace=True)\n",
    "\n",
    "# Preview cleaned data\n",
    "print(\"\\nCleaned Data Sample:\")\n",
    "display(df.head())"
   ]
  },
  {
   "cell_type": "markdown",
   "metadata": {},
   "source": [
    "# ===========================================\n",
    "\n",
    "# 4. Exploratory Data Analysis (EDA)\n"
   ]
  },
  {
   "cell_type": "code",
   "execution_count": 2,
   "metadata": {},
   "outputs": [
    {
     "data": {
      "image/png": "[encoded data removed]",
      "text/plain": [
       "<Figure size 640x480 with 1 Axes>"
      ]
     },
     "metadata": {},
     "output_type": "display_data"
    },
    {
     "data": {
      "image/png": "[encoded data removed]",
      "text/plain": [
       "<Figure size 640x480 with 1 Axes>"
      ]
     },
     "metadata": {},
     "output_type": "display_data"
    }
   ],
   "source": [
    "\n",
    "sns.histplot(df['price'], bins=50)\n",
    "\n",
    "plt.title(\"Price Distribution of Apps\")\n",
    "plt.xlim(0, 210)  # Limit x-axis to 0-100 for better visibility\n",
    "plt.xlabel(\"Price\")\n",
    "plt.ylabel(\"Number of Apps\")\n",
    "plt.show()\n",
    "\n",
    "# Most common genres\n",
    "from collections import Counter\n",
    "\n",
    "all_genres = ','.join(df['genre'].dropna()).split(',')\n",
    "genre_counts = pd.Series(Counter(all_genres)).sort_values(ascending=False)\n",
    "genre_counts.head(10).plot(kind='bar')\n",
    "plt.title(\"Top 10 Most Common Genres\")\n",
    "plt.ylabel(\"Number of Apps\")\n",
    "plt.show()"
   ]
  },
  {
   "cell_type": "markdown",
   "metadata": {},
   "source": [
    "# ===========================================\n",
    "\n",
    "# 5. Hypotheses Visualizations\n",
    "(At least 5 visualizations with explanations and responsible team members)\n",
    "\n",
    "\n",
    "### Hypothesis 1:\n",
    "- Visualization explanation: Free apps get more reviews than paid apps\n",
    "- Responsible member(s): Angel Ramirez\n",
    "- Why it’s interesting: Helps understand if pricing strategy impacts popularity.\n"
   ]
  },
  {
   "cell_type": "code",
   "execution_count": 3,
   "metadata": {},
   "outputs": [
    {
     "data": {
      "image/png": "[encoded data removed]",
      "text/plain": [
       "<Figure size 640x480 with 1 Axes>"
      ]
     },
     "metadata": {},
     "output_type": "display_data"
    }
   ],
   "source": [
    "# Add 'is_free' column to indicate whether the app is free\n",
    "df['is_free'] = df['price'] == 0.00\n",
    "\n",
    "# Add 'log_reviews' column to calculate log(1 + total_reviews)\n",
    "import numpy as np\n",
    "df['log_reviews'] = np.log1p(df['total_reviews'])\n",
    "\n",
    "# Plot the violin plot\n",
    "sns.violinplot(x='is_free', y='log_reviews', data=df, inner='box')\n",
    "plt.title(\"Free vs Paid Apps: Log Review Count (Violin Plot)\")\n",
    "plt.xlabel(\"Is Free\")\n",
    "plt.ylabel(\"Log(1 + Total Reviews)\")\n",
    "plt.show()"
   ]
  },
  {
   "cell_type": "markdown",
   "metadata": {},
   "source": [
    "### Hypothesis 2:\n",
    "- Visualization explanation:\n",
    "- Responsible member(s):"
   ]
  },
  {
   "cell_type": "code",
   "execution_count": null,
   "metadata": {},
   "outputs": [],
   "source": [
    "# [Visualization Code]"
   ]
  },
  {
   "cell_type": "markdown",
   "metadata": {},
   "source": [
    "### Hypothesis 3:\n",
    "- Visualization explanation:\n",
    "- Responsible member(s):"
   ]
  },
  {
   "cell_type": "code",
   "execution_count": null,
   "metadata": {},
   "outputs": [],
   "source": [
    "# [Visualization Code]"
   ]
  },
  {
   "cell_type": "markdown",
   "metadata": {},
   "source": [
    "### Hypothesis 4:\n",
    "- Visualization explanation:\n",
    "- Responsible member(s):"
   ]
  },
  {
   "cell_type": "code",
   "execution_count": null,
   "metadata": {},
   "outputs": [],
   "source": [
    "# [Visualization Code]"
   ]
  },
  {
   "cell_type": "markdown",
   "metadata": {},
   "source": [
    "### Hypothesis 5:\n",
    "- Visualization explanation:\n",
    "- Responsible member(s):"
   ]
  },
  {
   "cell_type": "code",
   "execution_count": null,
   "metadata": {},
   "outputs": [],
   "source": [
    "# [Visualization Code]"
   ]
  },
  {
   "cell_type": "markdown",
   "metadata": {},
   "source": [
    "# 6. Machine Learning Analyses\n",
    "(At least 2 analyses with baselines and explanations)\n",
    "\n",
    "**Analysis 1:**\n",
    "- ML technique explanation:\n",
    "- Baseline used:\n",
    "- Results interpretation:\n",
    "- Responsible member(s):"
   ]
  },
  {
   "cell_type": "code",
   "execution_count": null,
   "metadata": {},
   "outputs": [],
   "source": [
    "# [ML Analysis Code]"
   ]
  },
  {
   "cell_type": "markdown",
   "metadata": {},
   "source": [
    "**Analysis 2:**\n",
    "- ML technique explanation:\n",
    "- Baseline used:\n",
    "- Results interpretation:\n",
    "- Responsible member(s):"
   ]
  },
  {
   "cell_type": "code",
   "execution_count": null,
   "metadata": {},
   "outputs": [],
   "source": [
    "# [ML Analysis Code]"
   ]
  },
  {
   "cell_type": "markdown",
   "metadata": {},
   "source": [
    "# ===========================================\n",
    "\n",
    "# 7. Reflection\n",
    "Address the reflection points:\n",
    "\n",
    "- Most challenging part so far:\n",
    "\n",
    "- Initial insights:\n",
    "\n",
    "- Concrete results available:\n",
    "\n",
    "- Current biggest problems:\n",
    "\n",
    "- Are you on track?\n",
    "\n",
    "- Worth proceeding with the current approach?"
   ]
  },
  {
   "cell_type": "markdown",
   "metadata": {},
   "source": [
    "# ===========================================\n",
    "\n",
    "# 8. Next Steps\n",
    "Outline concrete plans and goals for the next month.\n",
    "\n",
    "- [Goal 1]\n",
    "- [Goal 2]\n",
    "- [Goal 3]"
   ]
  }
 ],
 "metadata": {
  "kernelspec": {
   "display_name": "Python 3",
   "language": "python",
   "name": "python3"
  },
  "language_info": {
   "codemirror_mode": {
    "name": "ipython",
    "version": 3
   },
   "file_extension": ".py",
   "mimetype": "text/x-python",
   "name": "python",
   "nbconvert_exporter": "python",
   "pygments_lexer": "ipython3",
   "version": "3.10.12"
  }
 },
 "nbformat": 4,
 "nbformat_minor": 4
}
