{
 "cells": [
  {
   "cell_type": "markdown",
   "metadata": {},
   "source": [
    "# Project Progress Report\n",
    "**Date:** April 10th, 2025\n",
    "\n",
    "**Team Members:**\n",
    "ALex Cruz,\n",
    "Miguel Madrigal,\n",
    "Christian Julias,\n",
    "Mohsin Patel,\n",
    "Angel Ramirez\n",
    "\n",
    "\n",
    "**Link to GitHub Repository:** https://github.com/mmadr5/SteamSalesAndPricingAnalysis"
   ]
  },
  {
   "cell_type": "markdown",
   "metadata": {
    "vscode": {
     "languageId": "plaintext"
    }
   },
   "source": [
    "# ===========================================\n",
    "\n",
    "# 1. Project Introduction\n",
    "Briefly introduce your project, the dataset, and the problems you aim to investigate:\n",
    "\n",
    "The goal of our project is to analyze the pricing and discount strategies used on the popular PC gaming platform, Steam. \n",
    "As frequent gamers ourselves, we were particularly interested in understanding the patterns behind the widely anticipated Steam sales, \n",
    "and how various game attributes influence both regular prices and discount behavior.\n",
    "\n",
    "To do this, we collected data from several publicly available Steam-related datasets. These datasets include information on game prices, \n",
    "genres, user reviews, tags, release dates, and other game-specific metrics."
   ]
  },
  {
   "cell_type": "markdown",
   "metadata": {
    "vscode": {
     "languageId": "plaintext"
    }
   },
   "source": [
    "# ===========================================\n",
    "\n",
    "# 2. Changes since Proposal\n",
    "Discuss any changes in the scope or approach since the initial proposal:\n",
    "\n",
    "Since our initial proposal, the scope and overall approach of our project have remained consistent. \n",
    "We haven't added or removed any major components. Our focus continues to be on analyzing Steam game pricing and discount patterns.\n"
   ]
  },
  {
   "cell_type": "markdown",
   "metadata": {
    "vscode": {
     "languageId": "plaintext"
    }
   },
   "source": [
    "# ===========================================\n",
    "\n",
    "# 3. Data Preparation\n",
    "Explain the steps taken to prepare your data.\n",
    "\n",
    "\n",
    "[Describe your data preparation process, including data cleaning, transformations, feature extraction, etc.]\n",
    "\n",
    "Our dataset was collected from SteamDB where we first started with the top 100 games in each genre, just because collecting\n",
    "data for the entire game catalog on Steam has been time consuming. To clean the data we looked at the price column and removed \n",
    "any entry that did not have a price or had a price of 0 which meant it was free, which is not needed for our project. After that we removed \n",
    "any duplicates or any rows with missing info like name or genre. \n",
    "These steps ensured our dataset was clean, consistent, and ready for analysis related to Steam's pricing patterns and sales strategy.\n"
   ]
  },
  {
   "cell_type": "code",
   "execution_count": null,
   "metadata": {},
   "outputs": [],
   "source": [
    "# Import necessary libraries\n",
    "import pandas as pd\n",
    "import matplotlib.pyplot as plt\n",
    "import seaborn as sns\n",
    "\n",
    "# Load dataset\n",
    "df = pd.read_csv('../Steam_Project/steam_top100_cleaned_data_corrected.csv')\n",
    "\n",
    "print(\"First 5 rows of the dataset:\")\n",
    "display(df.head())\n",
    "\n",
    "# Dataset overview\n",
    "print(\"\\nData Info:\")\n",
    "df.info()\n",
    "\n",
    "print(\"\\nStatistical Summary:\")\n",
    "display(df.describe())\n",
    "\n",
    "# Convert price to numeric and fix decimal\n",
    "# Some prices are stored as integers like 9999 instead of 99.99\n",
    "df['price'] = pd.to_numeric(df['price'], errors='coerce')\n",
    "\n",
    "# Filter price between 0 and 210 (exclusive of 0)\n",
    "df = df[(df['price'] > 0) & (df['price'] <= 210)]\n",
    "\n",
    "# Drop duplicate app entries (keep first occurrence)\n",
    "df.drop_duplicates(subset='appid', keep='first', inplace=True)\n",
    "\n",
    "# Add total_reviews and positive_ratio columns\n",
    "df['total_reviews'] = df['positive'] + df['negative']\n",
    "df['positive_ratio'] = df['positive'] / (df['total_reviews'].replace(0, 1))  # Avoid divide by zero\n",
    "\n",
    "# Check for missing values\n",
    "print(\"\\nMissing Values Per Column:\")\n",
    "print(df.isnull().sum())\n",
    "\n",
    "# Optional: drop rows with critical missing values (e.g., no name or no genre)\n",
    "df.dropna(subset=['name', 'genre'], inplace=True)\n",
    "\n",
    "# Reset index after dropping rows\n",
    "df.reset_index(drop=True, inplace=True)\n",
    "\n",
    "# Preview cleaned data\n",
    "print(\"\\nCleaned Data Sample:\")\n",
    "display(df.head())"
   ]
  },
  {
   "cell_type": "markdown",
   "metadata": {},
   "source": [
    "# ===========================================\n",
    "\n",
    "# 4. Exploratory Data Analysis (EDA)\n"
   ]
  },
  {
   "cell_type": "code",
   "execution_count": null,
   "metadata": {},
   "outputs": [],
   "source": [
    "\n",
    "sns.histplot(df['price'], bins=50)\n",
    "\n",
    "plt.title(\"Price Distribution of Apps\")\n",
    "plt.xlim(0, 210)\n",
    "plt.xlabel(\"Price\")\n",
    "plt.ylabel(\"Number of Apps\")\n",
    "plt.show()\n",
    "\n",
    "# Most common genres\n",
    "from collections import Counter\n",
    "\n",
    "all_genres = ','.join(df['genre'].dropna()).split(',')\n",
    "genre_counts = pd.Series(Counter(all_genres)).sort_values(ascending=False)\n",
    "genre_counts.head(10).plot(kind='bar')\n",
    "plt.title(\"Top 10 Most Common Genres\")\n",
    "plt.ylabel(\"Number of Apps\")\n",
    "plt.show()"
   ]
  },
  {
   "cell_type": "markdown",
   "metadata": {},
   "source": [
    "# ===========================================\n",
    "\n",
    "# 5. Hypotheses Visualizations\n",
    "(At least 5 visualizations with explanations and responsible team members)\n",
    "\n",
    "\n",
    "### Hypothesis 1:\n",
    "- Visualization explanation: Free apps get more reviews than paid apps\n",
    "- Responsible member(s): Angel Ramirez\n",
    "- Why it’s interesting: Helps understand if pricing strategy impacts popularity.\n"
   ]
  },
  {
   "cell_type": "code",
   "execution_count": null,
   "metadata": {},
   "outputs": [],
   "source": [
    "# Add 'is_free' column to indicate whether the app is free\n",
    "df['is_free'] = df['price'] == 0.00\n",
    "\n",
    "# Add 'log_reviews' column to calculate log(1 + total_reviews)\n",
    "import numpy as np\n",
    "df['log_reviews'] = np.log1p(df['total_reviews'])\n",
    "\n",
    "# Plot the violin plot\n",
    "sns.violinplot(x='is_free', y='log_reviews', data=df, inner='box')\n",
    "plt.title(\"Free vs Paid Apps: Log Review Count (Violin Plot)\")\n",
    "plt.xlabel(\"Is Free\")\n",
    "plt.ylabel(\"Log(1 + Total Reviews)\")\n",
    "plt.show()"
   ]
  },
  {
   "cell_type": "markdown",
   "metadata": {},
   "source": [
    "### Hypothesis 2:\n",
    "- Visualization explanation:\n",
    "- Responsible member(s):"
   ]
  },
  {
   "cell_type": "code",
   "execution_count": null,
   "metadata": {},
   "outputs": [],
   "source": [
    "# [Visualization Code]"
   ]
  },
  {
   "cell_type": "markdown",
   "metadata": {},
   "source": [
    "### Hypothesis 3:\n",
    "- Visualization explanation:\n",
    "- Responsible member(s):"
   ]
  },
  {
   "cell_type": "code",
   "execution_count": null,
   "metadata": {},
   "outputs": [],
   "source": [
    "# [Visualization Code]"
   ]
  },
  {
   "cell_type": "markdown",
   "metadata": {},
   "source": [
    "### Hypothesis 4:\n",
    "- Visualization explanation:\n",
    "- Responsible member(s):"
   ]
  },
  {
   "cell_type": "code",
   "execution_count": null,
   "metadata": {},
   "outputs": [],
   "source": [
    "# [Visualization Code]"
   ]
  },
  {
   "cell_type": "markdown",
   "metadata": {},
   "source": [
    "### Hypothesis 5:\n",
    "- Visualization explanation:\n",
    "- Responsible member(s):"
   ]
  },
  {
   "cell_type": "code",
   "execution_count": null,
   "metadata": {},
   "outputs": [],
   "source": [
    "# [Visualization Code]"
   ]
  },
  {
   "cell_type": "markdown",
   "metadata": {},
   "source": [
    "# 6. Machine Learning Analyses\n",
    "(At least 2 analyses with baselines and explanations)\n",
    "\n",
    "**Analysis 1:**\n",
    "- ML technique explanation:\n",
    "- Baseline used:\n",
    "- Results interpretation:\n",
    "- Responsible member(s):"
   ]
  },
  {
   "cell_type": "code",
   "execution_count": null,
   "metadata": {},
   "outputs": [],
   "source": [
    "# [ML Analysis Code]"
   ]
  },
  {
   "cell_type": "markdown",
   "metadata": {},
   "source": [
    "**Analysis 2:**\n",
    "- ML technique explanation:\n",
    "- Baseline used:\n",
    "- Results interpretation:\n",
    "- Responsible member(s):"
   ]
  },
  {
   "cell_type": "code",
   "execution_count": null,
   "metadata": {},
   "outputs": [],
   "source": [
    "# [ML Analysis Code]"
   ]
  },
  {
   "cell_type": "markdown",
   "metadata": {},
   "source": [
    "# ===========================================\n",
    "\n",
    "# 7. Reflection\n",
    "*Address the reflection points:*\n",
    "\n",
    "- **Most challenging part so far:** Gathering data or finding useful consistent data has been a nightmare\n",
    "\n",
    "- **Initial insights:**\n",
    "\n",
    "- **Concrete results available:**\n",
    "\n",
    "- **Current biggest problems:**\n",
    "\n",
    "- *Are you on track?*\n",
    "\n",
    "- *Worth proceeding with the current approach?*"
   ]
  },
  {
   "cell_type": "markdown",
   "metadata": {},
   "source": [
    "# ===========================================\n",
    "\n",
    "# 8. Next Steps\n",
    "Outline concrete plans and goals for the next month.\n",
    "\n",
    "- In the last week we found a dataset table that lists the games currently on steam. We hope to use this table to retrieve current price and review data.\n",
    "- We recently retrieved a table that has listed publisher data classed by AAA, AA, Indie, and Hobbyist. As well other relevant data per publisher that we can leverage in our study.\n",
    "- [Goal 3]"
   ]
  }
 ],
 "metadata": {
  "kernelspec": {
   "display_name": "Python 3",
   "language": "python",
   "name": "python3"
  },
  "language_info": {
   "codemirror_mode": {
    "name": "ipython",
    "version": 3
   },
   "file_extension": ".py",
   "mimetype": "text/x-python",
   "name": "python",
   "nbconvert_exporter": "python",
   "pygments_lexer": "ipython3",
   "version": "3.10.12"
  }
 },
 "nbformat": 4,
 "nbformat_minor": 4
}
