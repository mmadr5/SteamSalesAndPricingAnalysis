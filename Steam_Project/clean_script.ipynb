{
 "cells": [
  {
   "cell_type": "code",
   "execution_count": 106,
   "id": "17ac42be",
   "metadata": {},
   "outputs": [
    {
     "name": "stderr",
     "output_type": "stream",
     "text": [
      "/tmp/ipykernel_5165/1960683913.py:17: DtypeWarning: Columns (3) have mixed types. Specify dtype option on import or set low_memory=False.\n",
      "  df = pd.read_csv(original_file_path, usecols=columns_to_keep)\n"
     ]
    },
    {
     "name": "stdout",
     "output_type": "stream",
     "text": [
      "Cleaned CSV saved to: /home/cjulias/SteamSalesAndPricingAnalysis/Steam_Project/cleaned_data/games_cleaned.csv\n"
     ]
    }
   ],
   "source": [
    "import pandas as pd\n",
    "import os\n",
    "import re\n",
    "\n",
    "# Define paths\n",
    "original_file_path = \"/home/cjulias/SteamSalesAndPricingAnalysis/Steam_Project/games.csv\"\n",
    "new_folder_path = \"/home/cjulias/SteamSalesAndPricingAnalysis/Steam_Project/cleaned_data\"\n",
    "new_file_path = os.path.join(new_folder_path, \"games_cleaned.csv\")\n",
    "\n",
    "# Columns to keep\n",
    "columns_to_keep = [\"app_id\", \"name\", \"release_date\", \"is_free\", \"price_overview\", \"languages\", \"type\"]\n",
    "\n",
    "# Create new folder if it doesn't exist\n",
    "os.makedirs(new_folder_path, exist_ok=True)\n",
    "\n",
    "# Read and filter the CSV\n",
    "df = pd.read_csv(original_file_path, usecols=columns_to_keep)\n",
    "\n",
    "# Remove rows where 'is_free' is 1 or '1'\n",
    "df = df[~df[\"is_free\"].isin([1, \"1\"])]\n",
    "df.rename(columns={\"languages\": \"initial_price\"}, inplace=True)\n",
    "\n",
    "\n",
    "# Save the cleaned CSV\n",
    "df.to_csv(new_file_path, index=False)\n",
    "\n",
    "print(f\"Cleaned CSV saved to: {new_file_path}\")\n"
   ]
  },
  {
   "cell_type": "code",
   "execution_count": null,
   "id": "78fd3802",
   "metadata": {},
   "outputs": [
    {
     "name": "stdout",
     "output_type": "stream",
     "text": [
      "✅ Fully cleaned 'price_overview' and 'initial_price' columns.\n"
     ]
    }
   ],
   "source": [
    "# Load CSV\n",
    "file_path = \"/home/cjulias/SteamSalesAndPricingAnalysis/Steam_Project/cleaned_data/games_cleaned.csv\"\n",
    "df = pd.read_csv(file_path)\n",
    "\n",
    "# Clean 'price_overview'\n",
    "df[\"price_overview\"] = df[\"price_overview\"].astype(str).str.replace(r'\\{\\\\?final\\\\?\"?:\\s*', '', regex=True)\n",
    "df[\"price_overview\"] = df[\"price_overview\"].str.replace(r',.*', '', regex=True)\n",
    "\n",
    "# Clean 'initial_price'\n",
    "df[\"initial_price\"] = df[\"initial_price\"].astype(str).str.replace(r'\"?\\\\?\\s*initial\\\\?\"?:\\s*', '', regex=True)\n",
    "df[\"initial_price\"] = df[\"initial_price\"].str.replace(r',.*', '', regex=True)\n",
    "df[\"initial_price\"] = df[\"initial_price\"].str.replace(r'\\\\', '', regex=True)  # Remove leftover backslashes\n",
    "\n",
    "# Save cleaned data\n",
    "df.to_csv(file_path, index=False)\n",
    "\n",
    "print(\"Fully cleaned 'price_overview' and 'initial_price' columns.\")\n"
   ]
  },
  {
   "cell_type": "code",
   "execution_count": 108,
   "id": "3f6c552b",
   "metadata": {},
   "outputs": [
    {
     "name": "stdout",
     "output_type": "stream",
     "text": [
      "Cleaned genres.csv saved to /home/cjulias/SteamSalesAndPricingAnalysis/Steam_Project/cleaned_data/genres_cleaned.csv with 285703 rows\n",
      "Cleaned reviews.csv saved to /home/cjulias/SteamSalesAndPricingAnalysis/Steam_Project/cleaned_data/reviews_cleaned.csv with 106365 rows\n",
      "Cleaned steamspy_insights.csv saved to /home/cjulias/SteamSalesAndPricingAnalysis/Steam_Project/cleaned_data/steamspy_insights_cleaned.csv with 106326 rows\n",
      "Cleaned tags.csv saved to /home/cjulias/SteamSalesAndPricingAnalysis/Steam_Project/cleaned_data/tags_cleaned.csv with 106421 rows\n"
     ]
    }
   ],
   "source": [
    "# Load app_ids from cleaned games file as strings\n",
    "games_df = pd.read_csv(os.path.join(cleaned_path, \"games_cleaned.csv\"))\n",
    "valid_app_ids = set(games_df[\"app_id\"].astype(str))\n",
    "\n",
    "# Process each file\n",
    "for file_name in files_to_clean:\n",
    "    file_path = os.path.join(base_path, file_name)\n",
    "    \n",
    "    # Read the CSV with error tolerance\n",
    "    df = pd.read_csv(file_path, on_bad_lines='skip', engine='python')\n",
    "    \n",
    "    # Convert app_id to string before filtering\n",
    "    if \"app_id\" in df.columns:\n",
    "        df[\"app_id\"] = df[\"app_id\"].astype(str)\n",
    "        df_cleaned = df[df[\"app_id\"].isin(valid_app_ids)]\n",
    "    else:\n",
    "        print(f\"'app_id' column not found in {file_name}\")\n",
    "        continue\n",
    "\n",
    "    # Save cleaned file\n",
    "    cleaned_file_path = os.path.join(cleaned_path, f\"{file_name.replace('.csv', '_cleaned.csv')}\")\n",
    "    df_cleaned.to_csv(cleaned_file_path, index=False)\n",
    "    print(f\"Cleaned {file_name} saved to {cleaned_file_path} with {len(df_cleaned)} rows\")"
   ]
  },
  {
   "cell_type": "code",
   "execution_count": 110,
   "id": "c5e84e9a",
   "metadata": {},
   "outputs": [
    {
     "name": "stdout",
     "output_type": "stream",
     "text": [
      "Cleaned and converted: 'price_overview' and 'initial_price' are now floats with cents.\n"
     ]
    }
   ],
   "source": [
    "file_path = \"/home/cjulias/SteamSalesAndPricingAnalysis/Steam_Project/cleaned_data/games_cleaned.csv\"\n",
    "df = pd.read_csv(file_path)\n",
    "\n",
    "# Clean any non-digit characters from the price columns\n",
    "df[\"price_overview\"] = df[\"price_overview\"].astype(str).str.extract(r'(\\d+)')[0]\n",
    "df[\"initial_price\"] = df[\"initial_price\"].astype(str).str.extract(r'(\\d+)')[0]\n",
    "\n",
    "# Convert to numeric and then to dollars\n",
    "df[\"price_overview\"] = pd.to_numeric(df[\"price_overview\"], errors='coerce') / 100\n",
    "df[\"initial_price\"] = pd.to_numeric(df[\"initial_price\"], errors='coerce') / 100\n",
    "\n",
    "# Round to 2 decimal places\n",
    "df[\"price_overview\"] = df[\"price_overview\"].round(2)\n",
    "df[\"initial_price\"] = df[\"initial_price\"].round(2)\n",
    "\n",
    "# Save final version\n",
    "df.to_csv(file_path, index=False)\n",
    "\n",
    "print(\"Cleaned and converted: 'price_overview' and 'initial_price' are now floats with cents.\")"
   ]
  },
  {
   "cell_type": "code",
   "execution_count": 111,
   "id": "9881c367",
   "metadata": {},
   "outputs": [
    {
     "name": "stdout",
     "output_type": "stream",
     "text": [
      "Removed rows with '\\N'. New shape: (81362, 7)\n"
     ]
    }
   ],
   "source": [
    "# File path\n",
    "cleaned_file_path = \"/home/cjulias/SteamSalesAndPricingAnalysis/Steam_Project/cleaned_data/games_cleaned.csv\"\n",
    "\n",
    "# Load the CSV\n",
    "df = pd.read_csv(cleaned_file_path)\n",
    "\n",
    "# Remove rows where any column contains '\\N'\n",
    "df_cleaned = df[~df.isin([\"\\\\N\"]).any(axis=1)]\n",
    "\n",
    "# Save it back\n",
    "df_cleaned.to_csv(cleaned_file_path, index=False)\n",
    "print(f\"Removed rows with '\\\\N'. New shape: {df_cleaned.shape}\")"
   ]
  }
 ],
 "metadata": {
  "kernelspec": {
   "display_name": "Python 3",
   "language": "python",
   "name": "python3"
  },
  "language_info": {
   "codemirror_mode": {
    "name": "ipython",
    "version": 3
   },
   "file_extension": ".py",
   "mimetype": "text/x-python",
   "name": "python",
   "nbconvert_exporter": "python",
   "pygments_lexer": "ipython3",
   "version": "3.10.12"
  }
 },
 "nbformat": 4,
 "nbformat_minor": 5
}
